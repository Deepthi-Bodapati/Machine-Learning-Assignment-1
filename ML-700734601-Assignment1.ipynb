{
 "cells": [
  {
   "cell_type": "code",
   "execution_count": 1,
   "id": "8254a1fc",
   "metadata": {
    "scrolled": true
   },
   "outputs": [
    {
     "name": "stdout",
     "output_type": "stream",
     "text": [
      "Ages= [19, 22, 19, 24, 20, 25, 26, 24, 25, 24]\n",
      "\n",
      "\n",
      "Sorted list of ages= [19, 19, 20, 22, 24, 24, 24, 25, 25, 26]\n",
      "\n",
      "\n",
      "The minimum age is: 19\n",
      "\n",
      "\n",
      "The maximum age is: 26\n",
      "\n",
      "\n",
      "The extended list  of ages is: [19, 19, 20, 22, 24, 24, 24, 25, 25, 26, 26, 19]\n",
      "\n",
      "\n",
      "The median age is: 24.0\n",
      "\n",
      "\n",
      "The average of ages is: 22.75\n",
      "\n",
      "\n",
      "The range of ages is: 7\n"
     ]
    }
   ],
   "source": [
    "import statistics\n",
    "ages=[19,22,19,24,20,25,26,24,25,24]\n",
    "print(\"Ages=\",ages)\n",
    "print(\"\\n\")\n",
    "ages.sort()\n",
    "print(\"Sorted list of ages=\",ages)\n",
    "print(\"\\n\")\n",
    "minimum_age=min(ages)\n",
    "print(\"The minimum age is:\",minimum_age) \n",
    "print(\"\\n\")\n",
    "maximum_age=max(ages)\n",
    "print(\"The maximum age is:\",maximum_age)\n",
    "print(\"\\n\")\n",
    "added_list=[maximum_age,minimum_age]\n",
    "ages.extend(added_list)\n",
    "print(\"The extended list  of ages is:\",ages)\n",
    "print(\"\\n\")\n",
    "median_age=statistics.median(ages)\n",
    "print(\"The median age is:\",median_age)\n",
    "print(\"\\n\")\n",
    "average_age=statistics.mean(ages)\n",
    "print(\"The average of ages is:\",average_age)\n",
    "print(\"\\n\")\n",
    "age_range= maximum_age-minimum_age\n",
    "print(\"The range of ages is:\",age_range)\n"
   ]
  },
  {
   "cell_type": "code",
   "execution_count": 2,
   "id": "3b9171da",
   "metadata": {},
   "outputs": [
    {
     "name": "stdout",
     "output_type": "stream",
     "text": [
      "{}\n",
      "\n",
      "\n",
      "{'name': 'Snoopy', 'color': 'Brown', 'breed': 'Pug', 'legs': 4, 'age': 5}\n",
      "\n",
      "\n",
      "{'first_name': 'Deepthi', 'last_name': 'Bodapati', 'gender': 'Female', 'age': 26, 'marital_status': 'Single', 'skills': ['p1', 'p2', 'p3'], 'country': 'US', 'city': 'OP', 'address': '115st'}\n",
      "\n",
      "\n",
      "9\n",
      "\n",
      "\n",
      "['p1', 'p2', 'p3'] <class 'list'>\n",
      "\n",
      "\n",
      "{'first_name': 'Deepthi', 'last_name': 'Bodapati', 'gender': 'Female', 'age': 26, 'marital_status': 'Single', 'skills': ['p1', 'p2', 'p3', 'p4', 'p5'], 'country': 'US', 'city': 'OP', 'address': '115st'}\n",
      "\n",
      "\n",
      "['first_name', 'last_name', 'gender', 'age', 'marital_status', 'skills', 'country', 'city', 'address']\n",
      "\n",
      "\n",
      "['Deepthi', 'Bodapati', 'Female', 26, 'Single', ['p1', 'p2', 'p3', 'p4', 'p5'], 'US', 'OP', '115st']\n"
     ]
    }
   ],
   "source": [
    "Dog = {}\n",
    "print(Dog)\n",
    "print(\"\\n\")\n",
    "Dog[\"name\"]=\"Snoopy\"\n",
    "Dog[\"color\"]=\"Brown\"\n",
    "Dog[\"breed\"]=\"Pug\"\n",
    "Dog[\"legs\"]=4\n",
    "Dog[\"age\"]=5\n",
    "print(Dog)\n",
    "print(\"\\n\")\n",
    "Student={\"first_name\":\"Deepthi\",\"last_name\":\"Bodapati\",\"gender\":\"Female\",\"age\":26,\"marital_status\":\"Single\",\"skills\": [\"p1\", \"p2\", \"p3\"],\"country\":\"US\",\"city\":\"OP\",\"address\":\"115st\"}\n",
    "print(Student)\n",
    "print(\"\\n\")\n",
    "print(len(Student))\n",
    "print(\"\\n\")\n",
    "print(Student[\"skills\"],type(Student[\"skills\"]))\n",
    "print(\"\\n\")\n",
    "Student[\"skills\"] += [\"p4\", \"p5\"]\n",
    "print(Student)\n",
    "print(\"\\n\")\n",
    "print(list(Student.keys()))\n",
    "print(\"\\n\")\n",
    "print(list(Student.values()))"
   ]
  },
  {
   "cell_type": "code",
   "execution_count": 3,
   "id": "6baccc84",
   "metadata": {},
   "outputs": [
    {
     "name": "stdout",
     "output_type": "stream",
     "text": [
      "('Dee1', 'Dee2', 'Dee3')\n",
      "\n",
      "\n",
      "('Bro1', 'Bro2', 'Bro3')\n",
      "\n",
      "\n",
      "('Dee1', 'Dee2', 'Dee3', 'Bro1', 'Bro2', 'Bro3')\n",
      "\n",
      "\n",
      "6\n",
      "\n",
      "\n",
      "('Dee1', 'Dee2', 'Dee3', 'Bro1', 'Bro2', 'Bro3', 'Mom', 'Dad')\n"
     ]
    }
   ],
   "source": [
    "Sisterstuple = (\"Dee1\", \"Dee2\", \"Dee3\")\n",
    "print(Sisterstuple)\n",
    "print(\"\\n\")\n",
    "Brotherstuple=(\"Bro1\",\"Bro2\",\"Bro3\")\n",
    "print(Brotherstuple)\n",
    "print(\"\\n\")\n",
    "Siblings=Sisterstuple+Brotherstuple\n",
    "print(Siblings)\n",
    "print(\"\\n\")\n",
    "print(len(Siblings))\n",
    "print(\"\\n\")\n",
    "Family_members=Siblings + (\"Mom\", \"Dad\",)\n",
    "print(Family_members)"
   ]
  },
  {
   "cell_type": "code",
   "execution_count": 4,
   "id": "59514435",
   "metadata": {},
   "outputs": [
    {
     "name": "stdout",
     "output_type": "stream",
     "text": [
      "7\n",
      "\n",
      "\n",
      "{'Facebook', 'Apple', 'twitter', 'IBM', 'Amazon', 'Microsoft', 'Oracle', 'Google'}\n",
      "\n",
      "\n",
      "{'twitter', 'Oracle', 'Google', 'Wipro', 'Facebook', 'Apple', 'cg', 'IBM', 'Amazon', 'TCS', 'Microsoft'}\n",
      "\n",
      "\n",
      "{'twitter', 'Oracle', 'Google', 'Wipro', 'Facebook', 'Apple', 'cg', 'IBM', 'Amazon', 'Microsoft'}\n",
      "\n",
      "\n",
      "{'twitter', 'Oracle', 'Google', 'Wipro', 'Facebook', 'Apple', 'cg', 'IBM', 'Amazon', 'Microsoft'}\n"
     ]
    }
   ],
   "source": [
    "it_companies = {'Facebook', 'Google', 'Microsoft', 'Apple', 'IBM', 'Oracle', 'Amazon'}\n",
    "A = {19, 22, 24, 20, 25, 26}\n",
    "B = {19, 22, 20, 25, 26, 24, 28, 27}\n",
    "age = [22, 19, 24, 25, 26, 24, 25, 24]\n",
    "print(len(it_companies))\n",
    "print(\"\\n\")\n",
    "it_companies.add(\"twitter\")\n",
    "print(it_companies)\n",
    "print(\"\\n\")\n",
    "Updated_companies= {\"cg\", \"TCS\", \"Wipro\"}\n",
    "it_companies.update(Updated_companies)\n",
    "print(it_companies)\n",
    "print(\"\\n\")\n",
    "it_companies.remove(\"TCS\")\n",
    "print(it_companies)\n",
    "print(\"\\n\")\n",
    "it_companies.discard(\"TCS\")\n",
    "print(it_companies)"
   ]
  },
  {
   "cell_type": "code",
   "execution_count": 12,
   "id": "1dbac700",
   "metadata": {},
   "outputs": [
    {
     "ename": "KeyError",
     "evalue": "'TCS'",
     "output_type": "error",
     "traceback": [
      "\u001b[1;31m---------------------------------------------------------------------------\u001b[0m",
      "\u001b[1;31mKeyError\u001b[0m                                  Traceback (most recent call last)",
      "Input \u001b[1;32mIn [12]\u001b[0m, in \u001b[0;36m<cell line: 1>\u001b[1;34m()\u001b[0m\n\u001b[1;32m----> 1\u001b[0m \u001b[43mit_companies\u001b[49m\u001b[38;5;241;43m.\u001b[39;49m\u001b[43mremove\u001b[49m\u001b[43m(\u001b[49m\u001b[38;5;124;43m\"\u001b[39;49m\u001b[38;5;124;43mTCS\u001b[39;49m\u001b[38;5;124;43m\"\u001b[39;49m\u001b[43m)\u001b[49m\n\u001b[0;32m      2\u001b[0m \u001b[38;5;28mprint\u001b[39m(it_companies)\n",
      "\u001b[1;31mKeyError\u001b[0m: 'TCS'"
     ]
    }
   ],
   "source": [
    "it_companies.remove(\"TCS\")\n",
    "print(it_companies)"
   ]
  },
  {
   "cell_type": "code",
   "execution_count": 13,
   "id": "605c1729",
   "metadata": {},
   "outputs": [
    {
     "name": "stdout",
     "output_type": "stream",
     "text": [
      "{19, 20, 22, 24, 25, 26, 27, 28}\n"
     ]
    }
   ],
   "source": [
    "X=A.union(B)\n",
    "print(X)"
   ]
  },
  {
   "cell_type": "code",
   "execution_count": 14,
   "id": "a2de1e06",
   "metadata": {},
   "outputs": [
    {
     "name": "stdout",
     "output_type": "stream",
     "text": [
      "{19, 20, 22, 24, 25, 26}\n"
     ]
    }
   ],
   "source": [
    "Z=A.intersection(B)\n",
    "print(Z)"
   ]
  },
  {
   "cell_type": "code",
   "execution_count": 15,
   "id": "6d4cbc6f",
   "metadata": {},
   "outputs": [
    {
     "name": "stdout",
     "output_type": "stream",
     "text": [
      "True\n"
     ]
    }
   ],
   "source": [
    "z = A.issubset(B)\n",
    "\n",
    "print(z)"
   ]
  },
  {
   "cell_type": "code",
   "execution_count": 16,
   "id": "2d024db2",
   "metadata": {},
   "outputs": [
    {
     "name": "stdout",
     "output_type": "stream",
     "text": [
      "False\n"
     ]
    }
   ],
   "source": [
    "D = A.isdisjoint(B)\n",
    "print(D)"
   ]
  },
  {
   "cell_type": "code",
   "execution_count": 17,
   "id": "5f92576e",
   "metadata": {},
   "outputs": [
    {
     "name": "stdout",
     "output_type": "stream",
     "text": [
      "{19, 20, 22, 24, 25, 26, 27, 28}\n"
     ]
    }
   ],
   "source": [
    "A=A.union(B)\n",
    "print(A)"
   ]
  },
  {
   "cell_type": "code",
   "execution_count": 18,
   "id": "53824cf2",
   "metadata": {},
   "outputs": [
    {
     "name": "stdout",
     "output_type": "stream",
     "text": [
      "{19, 20, 22, 24, 25, 26, 27, 28}\n"
     ]
    }
   ],
   "source": [
    "B=B.union(A)\n",
    "print(B)"
   ]
  },
  {
   "cell_type": "code",
   "execution_count": 19,
   "id": "8c0576be",
   "metadata": {},
   "outputs": [
    {
     "name": "stdout",
     "output_type": "stream",
     "text": [
      "set()\n"
     ]
    }
   ],
   "source": [
    "Symmetric_Diff = A.symmetric_difference(B)\n",
    "print(Symmetric_Diff)"
   ]
  },
  {
   "cell_type": "code",
   "execution_count": 20,
   "id": "884a64f2",
   "metadata": {},
   "outputs": [
    {
     "name": "stdout",
     "output_type": "stream",
     "text": [
      "set()\n",
      "set()\n",
      "set()\n"
     ]
    }
   ],
   "source": [
    "it_companies.clear()\n",
    "A.clear()\n",
    "B.clear()\n",
    "print(it_companies)\n",
    "print(A)\n",
    "print(B)\n"
   ]
  },
  {
   "cell_type": "code",
   "execution_count": 21,
   "id": "3a015c02",
   "metadata": {},
   "outputs": [
    {
     "name": "stdout",
     "output_type": "stream",
     "text": [
      "{19, 22, 24, 25, 26}\n"
     ]
    }
   ],
   "source": [
    "setOfages=set(age)\n",
    "print(setOfages)"
   ]
  },
  {
   "cell_type": "code",
   "execution_count": 22,
   "id": "d1915b4c",
   "metadata": {},
   "outputs": [
    {
     "name": "stdout",
     "output_type": "stream",
     "text": [
      "8\n",
      "5\n"
     ]
    }
   ],
   "source": [
    "print(len(age))\n",
    "print(len(setOfages))"
   ]
  },
  {
   "cell_type": "code",
   "execution_count": 10,
   "id": "f1b15201",
   "metadata": {},
   "outputs": [
    {
     "name": "stdout",
     "output_type": "stream",
     "text": [
      "Area of a circle = 2827.43\n",
      "\n",
      "\n",
      "Circumference of a circle = 188.50\n",
      "\n",
      "\n",
      "Enter the radius of a circle is 34\n",
      "\n",
      "\n",
      "Area of a circle = 3631.68\n"
     ]
    }
   ],
   "source": [
    "import math\n",
    "radius=30\n",
    "_area_of_circle_=math.pi*radius*radius    \n",
    "print(\"Area of a circle = %.2f\" %_area_of_circle_)\n",
    "print(\"\\n\")\n",
    "_circum_of_circle_=2*math.pi*radius\n",
    "print(\"Circumference of a circle = %.2f\" %_circum_of_circle_)\n",
    "print(\"\\n\")\n",
    "r = float(input(\"Enter the radius of a circle is \"))\n",
    "print(\"\\n\")\n",
    "area = math.pi * r * r\n",
    "print(\"Area of a circle = %.2f\" %area)"
   ]
  },
  {
   "cell_type": "code",
   "execution_count": 9,
   "id": "63651c5f",
   "metadata": {},
   "outputs": [
    {
     "name": "stdout",
     "output_type": "stream",
     "text": [
      "{'am', 'and', 'teach', 'to', 'people', 'I', 'love', 'teacher', 'inspire', 'a'}\n"
     ]
    }
   ],
   "source": [
    "\n",
    "Uniquestring=\"I am a teacher and I love to inspire and teach people\"\n",
    "print(set(Uniquestring.split(' ')))"
   ]
  },
  {
   "cell_type": "code",
   "execution_count": 8,
   "id": "d72f0cf3",
   "metadata": {},
   "outputs": [
    {
     "name": "stdout",
     "output_type": "stream",
     "text": [
      "Name\tAge\tCountry\tCity\n",
      "\n",
      "\n",
      "Asabeneh\t50\tFinland\tHelsinki\n"
     ]
    }
   ],
   "source": [
    "print(\"Name\\tAge\\tCountry\\tCity\")\n",
    "print(\"\\n\")\n",
    "print(\"Asabeneh\\t50\\tFinland\\tHelsinki\")\n"
   ]
  },
  {
   "cell_type": "code",
   "execution_count": 7,
   "id": "0aa82d28",
   "metadata": {},
   "outputs": [
    {
     "name": "stdout",
     "output_type": "stream",
     "text": [
      "The area of circle with a radius 10 is 314.00.\n"
     ]
    }
   ],
   "source": [
    "\n",
    "radius = 10 \n",
    "pi = 3.14 \n",
    "area = pi * radius ** 2 \n",
    "formated_string = 'The area of circle with a radius %d is %.2f.' %(radius, area) # 2 refers the 2 significant digits after the point\n",
    "\n",
    "print(formated_string) # \"The following are python libraries:['Django', 'Flask', 'NumPy', 'Matplotlib','Pandas']\"\n",
    "\n"
   ]
  },
  {
   "cell_type": "code",
   "execution_count": 6,
   "id": "59080bf3",
   "metadata": {},
   "outputs": [
    {
     "name": "stdout",
     "output_type": "stream",
     "text": [
      "Enter number of elements in the list : 3\n",
      "\n",
      "\n",
      "Enter the input in pounds : 23,45,67\n",
      "\n",
      "\n",
      "The entered list is: [23, 45, 67]\n",
      "\n",
      "\n",
      "KG list is:  [10.43, 20.41, 30.39]\n"
     ]
    }
   ],
   "source": [
    "KG_list=[]\n",
    "LB_list = []\n",
    "# Input the user input\n",
    "N = int(input(\"Enter number of elements in the list : \"))\n",
    "print(\"\\n\")\n",
    "# Enter elements separated by comma\n",
    "LB_list = list(map(int,input(\"Enter the input in pounds : \").strip().split(',')))[:N]\n",
    "print(\"\\n\")\n",
    "print(\"The entered list is:\",LB_list)\n",
    "print(\"\\n\")\n",
    "\n",
    "# convert each item to int type\n",
    "for i in range(len(LB_list)):\n",
    "    # convert each item to kg by pound value\n",
    "    item= LB_list[i] * 0.453592\n",
    "    KG_list.append(round(item,2))\n",
    "print(\"KG list is: \", KG_list)"
   ]
  },
  {
   "cell_type": "code",
   "execution_count": null,
   "id": "4d61cf62",
   "metadata": {},
   "outputs": [],
   "source": []
  }
 ],
 "metadata": {
  "kernelspec": {
   "display_name": "Python 3 (ipykernel)",
   "language": "python",
   "name": "python3"
  },
  "language_info": {
   "codemirror_mode": {
    "name": "ipython",
    "version": 3
   },
   "file_extension": ".py",
   "mimetype": "text/x-python",
   "name": "python",
   "nbconvert_exporter": "python",
   "pygments_lexer": "ipython3",
   "version": "3.9.12"
  }
 },
 "nbformat": 4,
 "nbformat_minor": 5
}
