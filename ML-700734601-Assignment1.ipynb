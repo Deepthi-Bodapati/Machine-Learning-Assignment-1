{
 "cells": [
  {
   "cell_type": "code",
   "execution_count": 14,
   "id": "8254a1fc",
   "metadata": {
    "scrolled": true
   },
   "outputs": [
    {
     "name": "stdout",
     "output_type": "stream",
     "text": [
      "Ages= [19, 22, 19, 24, 20, 25, 26, 24, 25, 24]\n",
      "\n",
      "\n",
      "Sorted list of ages= [19, 19, 20, 22, 24, 24, 24, 25, 25, 26]\n",
      "\n",
      "\n",
      "The minimum age is: 19\n",
      "\n",
      "\n",
      "The maximum age is: 26\n",
      "\n",
      "\n",
      "The extended list  of ages is: [19, 19, 20, 22, 24, 24, 24, 25, 25, 26, 26, 19]\n",
      "\n",
      "\n",
      "The median age is: 24.0\n",
      "\n",
      "\n",
      "The average of ages is: 22.75\n",
      "\n",
      "\n",
      "The range of ages is: 7\n"
     ]
    }
   ],
   "source": [
    "#Statistics is a python's built-in module that you can use to calculate mathematical statistics of numeric data like mean and median etc...\n",
    "import statistics\n",
    "ages=[19,22,19,24,20,25,26,24,25,24]\n",
    "print(\"Ages=\",ages)\n",
    "print(\"\\n\") #returns a new line \n",
    "ages.sort()#returns sorted values of a list\n",
    "print(\"Sorted list of ages=\",ages)\n",
    "print(\"\\n\")\n",
    "minimum_age=min(ages)#returns minimum value in a list\n",
    "print(\"The minimum age is:\",minimum_age) \n",
    "print(\"\\n\")\n",
    "maximum_age=max(ages)#returns maximum value in a list\n",
    "print(\"The maximum age is:\",maximum_age)\n",
    "print(\"\\n\")\n",
    "added_list=[maximum_age,minimum_age]\n",
    "ages.extend(added_list)#add or extend the new items to the end of  a list \n",
    "print(\"The extended list  of ages is:\",ages)\n",
    "print(\"\\n\")\n",
    "median_age=statistics.median(ages)# returns the middle value in a list\n",
    "print(\"The median age is:\",median_age)\n",
    "print(\"\\n\")\n",
    "average_age=statistics.mean(ages)#returns the average of numbers in a list\n",
    "print(\"The average of ages is:\",average_age)\n",
    "print(\"\\n\")\n",
    "age_range= maximum_age-minimum_age\n",
    "print(\"The range of ages is:\",age_range)\n"
   ]
  },
  {
   "cell_type": "code",
   "execution_count": 29,
   "id": "3b9171da",
   "metadata": {},
   "outputs": [
    {
     "name": "stdout",
     "output_type": "stream",
     "text": [
      "{}\n",
      "\n",
      "\n",
      "{'name': 'Snoopy', 'color': 'Brown', 'breed': 'Pug', 'legs': 4, 'age': 5}\n",
      "\n",
      "\n",
      "{'first_name': 'Deepthi', 'last_name': 'Bodapati', 'gender': 'Female', 'age': 26, 'marital_status': 'Single', 'skills': ['p1', 'p2', 'p3'], 'country': 'US', 'city': 'OP', 'address': '115st'}\n",
      "\n",
      "\n",
      "9\n",
      "\n",
      "\n",
      "['p1', 'p2', 'p3'] <class 'list'>\n",
      "\n",
      "\n",
      "{'first_name': 'Deepthi', 'last_name': 'Bodapati', 'gender': 'Female', 'age': 26, 'marital_status': 'Single', 'skills': ['p1', 'p2', 'p3', 'p4', 'p5'], 'country': 'US', 'city': 'OP', 'address': '115st'}\n",
      "\n",
      "\n",
      "['first_name', 'last_name', 'gender', 'age', 'marital_status', 'skills', 'country', 'city', 'address']\n",
      "\n",
      "\n",
      "['Deepthi', 'Bodapati', 'Female', 26, 'Single', ['p1', 'p2', 'p3', 'p4', 'p5'], 'US', 'OP', '115st']\n"
     ]
    }
   ],
   "source": [
    "Dog = {}#created empty dictionary\n",
    "print(Dog)\n",
    "print(\"\\n\")\n",
    "Dog[\"name\"]=\"Snoopy\"#adding key value pairs to empty dictionary\n",
    "Dog[\"color\"]=\"Brown\"\n",
    "Dog[\"breed\"]=\"Pug\"\n",
    "Dog[\"legs\"]=4\n",
    "Dog[\"age\"]=5\n",
    "print(Dog)\n",
    "print(\"\\n\")\n",
    "Student={\"first_name\":\"Deepthi\",\"last_name\":\"Bodapati\",\"gender\":\"Female\",\"age\":26,\"marital_status\":\"Single\",\"skills\": [\"p1\", \"p2\", \"p3\"],\"country\":\"US\",\"city\":\"OP\",\"address\":\"115st\"} #created student dictionary\n",
    "print(Student)\n",
    "print(\"\\n\")\n",
    "print(len(Student))#returns the number of items in a dictionary\n",
    "print(\"\\n\")\n",
    "print(Student[\"skills\"],type(Student[\"skills\"]))#returns skills value in a student dictionary and its data type\n",
    "print(\"\\n\")\n",
    "Student[\"skills\"] += [\"p4\", \"p5\"]# updating or adding  items in a skills list of student dictionary\n",
    "print(Student)\n",
    "print(\"\\n\")\n",
    "print(list(Student.keys()))# returns keys as a liust with list function\n",
    "print(\"\\n\")\n",
    "print(list(Student.values()))# returns values as a list"
   ]
  },
  {
   "cell_type": "code",
   "execution_count": 16,
   "id": "6baccc84",
   "metadata": {},
   "outputs": [
    {
     "name": "stdout",
     "output_type": "stream",
     "text": [
      "('Dee1', 'Dee2', 'Dee3')\n",
      "\n",
      "\n",
      "('Bro1', 'Bro2', 'Bro3')\n",
      "\n",
      "\n",
      "('Dee1', 'Dee2', 'Dee3', 'Bro1', 'Bro2', 'Bro3')\n",
      "\n",
      "\n",
      "6\n",
      "\n",
      "\n",
      "('Dee1', 'Dee2', 'Dee3', 'Bro1', 'Bro2', 'Bro3', 'Mom', 'Dad')\n"
     ]
    }
   ],
   "source": [
    "\n",
    "Sisterstuple = (\"Dee1\", \"Dee2\", \"Dee3\")#create a tuple separated by commas\n",
    "print(Sisterstuple)\n",
    "print(\"\\n\")\n",
    "Brotherstuple=(\"Bro1\",\"Bro2\",\"Bro3\")\n",
    "print(Brotherstuple)\n",
    "print(\"\\n\")\n",
    "Siblings=Sisterstuple+Brotherstuple # join or combining two tuples with \"+\" sign\n",
    "print(Siblings)\n",
    "print(\"\\n\")\n",
    "print(len(Siblings))# returns the number of items in a tuple\n",
    "print(\"\\n\")\n",
    "Family_members=Siblings + (\"Mom\", \"Dad\",)# adding items to a tuple \n",
    "print(Family_members)"
   ]
  },
  {
   "cell_type": "code",
   "execution_count": 17,
   "id": "59514435",
   "metadata": {},
   "outputs": [
    {
     "name": "stdout",
     "output_type": "stream",
     "text": [
      "7\n",
      "\n",
      "\n",
      "{'Apple', 'Facebook', 'IBM', 'twitter', 'Oracle', 'Amazon', 'Microsoft', 'Google'}\n",
      "\n",
      "\n",
      "{'Apple', 'Facebook', 'IBM', 'cg', 'Wipro', 'twitter', 'Microsoft', 'Oracle', 'TCS', 'Amazon', 'Google'}\n",
      "\n",
      "\n",
      "{'Apple', 'Facebook', 'IBM', 'cg', 'Wipro', 'twitter', 'Microsoft', 'Oracle', 'Amazon', 'Google'}\n",
      "\n",
      "\n",
      "{'Apple', 'Facebook', 'IBM', 'cg', 'Wipro', 'twitter', 'Microsoft', 'Oracle', 'Amazon', 'Google'}\n"
     ]
    }
   ],
   "source": [
    "it_companies = {'Facebook', 'Google', 'Microsoft', 'Apple', 'IBM', 'Oracle', 'Amazon'}\n",
    "A = {19, 22, 24, 20, 25, 26}\n",
    "B = {19, 22, 20, 25, 26, 24, 28, 27}\n",
    "age = [22, 19, 24, 25, 26, 24, 25, 24]\n",
    "print(len(it_companies)) # returns number of items in a set \n",
    "print(\"\\n\")\n",
    "it_companies.add(\"twitter\")# adding a item in a set\n",
    "print(it_companies)\n",
    "print(\"\\n\")\n",
    "Updated_companies= {\"cg\", \"TCS\", \"Wipro\"}\n",
    "it_companies.update(Updated_companies) # adding or updating multiple values at once to a set\n",
    "print(it_companies)\n",
    "print(\"\\n\")\n",
    "it_companies.remove(\"TCS\") # remove an item from a set\n",
    "print(it_companies)\n",
    "print(\"\\n\")\n",
    "it_companies.discard(\"TCS\") # remove an item from a set \n",
    "print(it_companies)"
   ]
  },
  {
   "cell_type": "code",
   "execution_count": 18,
   "id": "1dbac700",
   "metadata": {},
   "outputs": [
    {
     "ename": "KeyError",
     "evalue": "'TCS'",
     "output_type": "error",
     "traceback": [
      "\u001b[1;31m---------------------------------------------------------------------------\u001b[0m",
      "\u001b[1;31mKeyError\u001b[0m                                  Traceback (most recent call last)",
      "Input \u001b[1;32mIn [18]\u001b[0m, in \u001b[0;36m<cell line: 2>\u001b[1;34m()\u001b[0m\n\u001b[0;32m      1\u001b[0m \u001b[38;5;66;03m# testing to error if removing an non existing item and its returned arror which is difference between remove and discard\u001b[39;00m\n\u001b[1;32m----> 2\u001b[0m \u001b[43mit_companies\u001b[49m\u001b[38;5;241;43m.\u001b[39;49m\u001b[43mremove\u001b[49m\u001b[43m(\u001b[49m\u001b[38;5;124;43m\"\u001b[39;49m\u001b[38;5;124;43mTCS\u001b[39;49m\u001b[38;5;124;43m\"\u001b[39;49m\u001b[43m)\u001b[49m\n\u001b[0;32m      3\u001b[0m \u001b[38;5;28mprint\u001b[39m(it_companies)\n",
      "\u001b[1;31mKeyError\u001b[0m: 'TCS'"
     ]
    }
   ],
   "source": [
    "# testing to error if removing an non existing item and its returned arror which is difference between remove and discard\n",
    "it_companies.remove(\"TCS\")\n",
    "print(it_companies)"
   ]
  },
  {
   "cell_type": "code",
   "execution_count": 30,
   "id": "605c1729",
   "metadata": {},
   "outputs": [
    {
     "name": "stdout",
     "output_type": "stream",
     "text": [
      "{19, 20, 22, 24, 25, 26, 27, 28}\n"
     ]
    }
   ],
   "source": [
    "X=A.union(B)#returns all the value in set A and set B\n",
    "print(X)"
   ]
  },
  {
   "cell_type": "code",
   "execution_count": 31,
   "id": "a2de1e06",
   "metadata": {},
   "outputs": [
    {
     "name": "stdout",
     "output_type": "stream",
     "text": [
      "{19, 20, 22, 24, 25, 26}\n"
     ]
    }
   ],
   "source": [
    "Z=A.intersection(B)#returns common values in set A and B\n",
    "print(Z)"
   ]
  },
  {
   "cell_type": "code",
   "execution_count": 32,
   "id": "6d4cbc6f",
   "metadata": {},
   "outputs": [
    {
     "name": "stdout",
     "output_type": "stream",
     "text": [
      "True\n"
     ]
    }
   ],
   "source": [
    "z = A.issubset(B)# check  if all the values in A are present in B , returns bool value \n",
    "\n",
    "print(z)"
   ]
  },
  {
   "cell_type": "code",
   "execution_count": 33,
   "id": "2d024db2",
   "metadata": {},
   "outputs": [
    {
     "name": "stdout",
     "output_type": "stream",
     "text": [
      "False\n"
     ]
    }
   ],
   "source": [
    "D = A.isdisjoint(B) # check if all the values in A and B are different , returns bool value\n",
    "print(D)"
   ]
  },
  {
   "cell_type": "code",
   "execution_count": 34,
   "id": "5f92576e",
   "metadata": {},
   "outputs": [
    {
     "name": "stdout",
     "output_type": "stream",
     "text": [
      "{19, 20, 22, 24, 25, 26, 27, 28}\n"
     ]
    }
   ],
   "source": [
    "A=A.union(B)\n",
    "print(A)"
   ]
  },
  {
   "cell_type": "code",
   "execution_count": 35,
   "id": "53824cf2",
   "metadata": {},
   "outputs": [
    {
     "name": "stdout",
     "output_type": "stream",
     "text": [
      "{19, 20, 22, 24, 25, 26, 27, 28}\n"
     ]
    }
   ],
   "source": [
    "B=B.union(A)\n",
    "print(B)"
   ]
  },
  {
   "cell_type": "code",
   "execution_count": 36,
   "id": "8c0576be",
   "metadata": {},
   "outputs": [
    {
     "name": "stdout",
     "output_type": "stream",
     "text": [
      "set()\n"
     ]
    }
   ],
   "source": [
    "Symmetric_Diff = A.symmetric_difference(B) # check difference between set A and B, if both are same returns empty set \n",
    "print(Symmetric_Diff)"
   ]
  },
  {
   "cell_type": "code",
   "execution_count": 37,
   "id": "884a64f2",
   "metadata": {},
   "outputs": [
    {
     "name": "stdout",
     "output_type": "stream",
     "text": [
      "set()\n",
      "set()\n",
      "set()\n"
     ]
    }
   ],
   "source": [
    "# Delete the sets \n",
    "it_companies.clear()\n",
    "A.clear()\n",
    "B.clear()\n",
    "print(it_companies)\n",
    "print(A)\n",
    "print(B)\n"
   ]
  },
  {
   "cell_type": "code",
   "execution_count": 24,
   "id": "3a015c02",
   "metadata": {},
   "outputs": [
    {
     "name": "stdout",
     "output_type": "stream",
     "text": [
      "{19, 22, 24, 25, 26}\n"
     ]
    }
   ],
   "source": [
    "# converting list into a set with set function\n",
    "setOfages=set(age)\n",
    "print(setOfages)"
   ]
  },
  {
   "cell_type": "code",
   "execution_count": 25,
   "id": "d1915b4c",
   "metadata": {},
   "outputs": [
    {
     "name": "stdout",
     "output_type": "stream",
     "text": [
      "8\n",
      "5\n"
     ]
    }
   ],
   "source": [
    "print(len(age))\n",
    "print(len(setOfages))"
   ]
  },
  {
   "cell_type": "code",
   "execution_count": 38,
   "id": "f1b15201",
   "metadata": {},
   "outputs": [
    {
     "name": "stdout",
     "output_type": "stream",
     "text": [
      "Area of a circle = 2827.43\n",
      "\n",
      "\n",
      "Circumference of a circle = 188.50\n",
      "\n",
      "\n",
      "Enter the radius of a circle is 20\n",
      "\n",
      "\n",
      "Area of a circle = 1256.64\n"
     ]
    }
   ],
   "source": [
    "import math# Math module provides various the value of various constantslike pi\n",
    "radius=30\n",
    "_area_of_circle_=math.pi*radius*radius    \n",
    "print(\"Area of a circle = %.2f\" %_area_of_circle_)# f represents the return value with float data type\n",
    "print(\"\\n\")\n",
    "_circum_of_circle_=2*math.pi*radius\n",
    "print(\"Circumference of a circle = %.2f\" %_circum_of_circle_)# f represents the return value with float data type\n",
    "print(\"\\n\")\n",
    "r = float(input(\"Enter the radius of a circle is \"))# input function used to give the user input to the system\n",
    "print(\"\\n\")\n",
    "area = math.pi * r * r\n",
    "print(\"Area of a circle = %.2f\" %area)# f represents the return value with float data type"
   ]
  },
  {
   "cell_type": "code",
   "execution_count": 22,
   "id": "63651c5f",
   "metadata": {},
   "outputs": [
    {
     "name": "stdout",
     "output_type": "stream",
     "text": [
      "{'love', 'and', 'am', 'people', 'teach', 'to', 'I', 'teacher', 'a', 'inspire'}\n"
     ]
    }
   ],
   "source": [
    "\n",
    "Uniquestring=\"I am a teacher and I love to inspire and teach people\"\n",
    "# split fucntion used to break the given main string i.e.Uniquestring here  into small strings with  given specifier and default is space and set function returns the distinct values in the form of set datatype  \n",
    "print(set(Uniquestring.split(' ')))"
   ]
  },
  {
   "cell_type": "code",
   "execution_count": 21,
   "id": "d72f0cf3",
   "metadata": {},
   "outputs": [
    {
     "name": "stdout",
     "output_type": "stream",
     "text": [
      "Name\tAge\tCountry\tCity\n",
      "\n",
      "\n",
      "Asabeneh\t50\tFinland\tHelsinki\n"
     ]
    }
   ],
   "source": [
    "print(\"Name\\tAge\\tCountry\\tCity\")#\\tThis represents a tab \n",
    "print(\"\\n\")\n",
    "print(\"Asabeneh\\t50\\tFinland\\tHelsinki\")\n"
   ]
  },
  {
   "cell_type": "code",
   "execution_count": 20,
   "id": "0aa82d28",
   "metadata": {},
   "outputs": [
    {
     "name": "stdout",
     "output_type": "stream",
     "text": [
      "The area of circle with a radius 10 is 314 meter square.\n"
     ]
    }
   ],
   "source": [
    "import math# Math module provides various the value of various constantslike pi\n",
    "radius = 10 \n",
    "area = math.pi * radius ** 2 #double star represents the power \n",
    "formated_string = 'The area of circle with a radius %d is %d meter square.' %(radius, area) # d represents retrun value with  integer data type 2 refers the 2 significant digits after the point\n",
    "\n",
    "print(formated_string)\n",
    "\n"
   ]
  },
  {
   "cell_type": "code",
   "execution_count": null,
   "id": "59080bf3",
   "metadata": {},
   "outputs": [],
   "source": [
    "KG_list=[]# create an empty list \n",
    "LB_list = []\n",
    "# Input the user input\n",
    "N = int(input(\"Enter number of elements in the list : \"))\n",
    "print(\"\\n\")\n",
    "# Enter elements separated by comma \n",
    "LB_list = list(map(int,input(\"Enter the input in pounds : \").strip().split(',')))[:N]# returns entered input into a list splitting with comma specifier\n",
    "print(\"\\n\")\n",
    "print(\"The entered pound list is:\",LB_list)\n",
    "print(\"\\n\")\n",
    "\n",
    "# convert each item to int type\n",
    "for i in range(len(LB_list)):# iterate  through the list with the given range \n",
    "    # convert each item to kg by pound value\n",
    "    item= LB_list[i] * 0.453592\n",
    "    KG_list.append(round(item,2))# add converted item to a new list \n",
    "print(\"KG list is: \", KG_list)\n"
   ]
  },
  {
   "cell_type": "code",
   "execution_count": 5,
   "id": "e0c9cc5e",
   "metadata": {},
   "outputs": [
    {
     "name": "stdout",
     "output_type": "stream",
     "text": [
      "Predicted values: [2 2 2 2]\n",
      "Actual values[2 1 1 1]\n"
     ]
    }
   ],
   "source": [
    "from sklearn.neighbors import KNeighborsClassifier #importing kneighborclassifier to find the nearest neighbors from the datapoint\n",
    "import numpy as NPY #to support large multidimensional arrays\n",
    "\n",
    "nearestneighbors = KNeighborsClassifier(n_neighbors=3)\n",
    "A = [[1], [2], [3], [6], [6], [7], [10], [11]] # multi dimensional array for given data set\n",
    "B = [1, 1, 2, 2, 2, 1, 1, 1]\n",
    "\n",
    "A_train, A_test = NPY.array_split(A, 2) # split the array into two halves\n",
    "B_train, B_test = NPY.array_split(B, 2)\n",
    "nearestneighbors.fit(A_train, B_train)\n",
    "\n",
    "print(\"Predicted values: \"+str(nearestneighbors.predict(A_test))) # to calculate test values \n",
    "print(\"Actual values\" + str(B_test))"
   ]
  },
  {
   "cell_type": "code",
   "execution_count": null,
   "id": "3fca4af0",
   "metadata": {},
   "outputs": [],
   "source": []
  }
 ],
 "metadata": {
  "kernelspec": {
   "display_name": "Python 3 (ipykernel)",
   "language": "python",
   "name": "python3"
  },
  "language_info": {
   "codemirror_mode": {
    "name": "ipython",
    "version": 3
   },
   "file_extension": ".py",
   "mimetype": "text/x-python",
   "name": "python",
   "nbconvert_exporter": "python",
   "pygments_lexer": "ipython3",
   "version": "3.9.12"
  }
 },
 "nbformat": 4,
 "nbformat_minor": 5
}
